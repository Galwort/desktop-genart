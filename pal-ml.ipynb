{
 "cells": [
  {
   "cell_type": "code",
   "execution_count": 1,
   "metadata": {},
   "outputs": [],
   "source": [
    "from pandas import read_csv, to_datetime"
   ]
  },
  {
   "cell_type": "code",
   "execution_count": 8,
   "metadata": {},
   "outputs": [
    {
     "name": "stdout",
     "output_type": "stream",
     "text": [
      "<class 'pandas.core.frame.DataFrame'>\n",
      "RangeIndex: 1362 entries, 0 to 1361\n",
      "Data columns (total 6 columns):\n",
      " #   Column     Non-Null Count  Dtype  \n",
      "---  ------     --------------  -----  \n",
      " 0   hex_1      1362 non-null   object \n",
      " 1   hex_2      1362 non-null   object \n",
      " 2   hex_3      884 non-null    object \n",
      " 3   hex_4      446 non-null    object \n",
      " 4   timestamp  1362 non-null   object \n",
      " 5   grade      1361 non-null   float64\n",
      "dtypes: float64(1), object(5)\n",
      "memory usage: 64.0+ KB\n"
     ]
    }
   ],
   "source": [
    "pal_df = read_csv(\"pal_log.csv\")\n",
    "pal_df.drop(columns=[\"id\", \"hex_5\"], inplace=True)\n",
    "pal_df[\"hour\"] = pal_df[\"timestamp\"].to_datetime().dt.hour"
   ]
  }
 ],
 "metadata": {
  "kernelspec": {
   "display_name": "Python 3",
   "language": "python",
   "name": "python3"
  },
  "language_info": {
   "codemirror_mode": {
    "name": "ipython",
    "version": 3
   },
   "file_extension": ".py",
   "mimetype": "text/x-python",
   "name": "python",
   "nbconvert_exporter": "python",
   "pygments_lexer": "ipython3",
   "version": "3.9.5"
  },
  "orig_nbformat": 4,
  "vscode": {
   "interpreter": {
    "hash": "854b79d274a583f75c40c7f3bd02412a36473cef18799a360864980abe18c0f4"
   }
  }
 },
 "nbformat": 4,
 "nbformat_minor": 2
}
