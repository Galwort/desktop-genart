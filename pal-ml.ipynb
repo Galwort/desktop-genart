{
 "cells": [
  {
   "cell_type": "code",
   "execution_count": 17,
   "metadata": {},
   "outputs": [
    {
     "name": "stdout",
     "output_type": "stream",
     "text": [
      "<class 'pandas.core.frame.DataFrame'>\n",
      "Int64Index: 1361 entries, 0 to 1360\n",
      "Data columns (total 6 columns):\n",
      " #   Column     Non-Null Count  Dtype  \n",
      "---  ------     --------------  -----  \n",
      " 0   hex_1      1361 non-null   object \n",
      " 1   hex_2      1361 non-null   object \n",
      " 2   hex_3      883 non-null    object \n",
      " 3   hex_4      445 non-null    object \n",
      " 4   timestamp  1361 non-null   object \n",
      " 5   grade      1361 non-null   float64\n",
      "dtypes: float64(1), object(5)\n",
      "memory usage: 74.4+ KB\n"
     ]
    }
   ],
   "source": [
    "from pandas import read_csv\n",
    "\n",
    "pal_df = read_csv(\"pal_log.csv\")\n",
    "pal_df.drop(columns=[\"id\", \"hex_5\"], inplace=True)\n",
    "pal_df.drop(pal_df.tail(1).index, inplace=True)\n",
    "pal_df.info()"
   ]
  },
  {
   "cell_type": "code",
   "execution_count": 18,
   "metadata": {},
   "outputs": [
    {
     "data": {
      "text/html": [
       "<div>\n",
       "<style scoped>\n",
       "    .dataframe tbody tr th:only-of-type {\n",
       "        vertical-align: middle;\n",
       "    }\n",
       "\n",
       "    .dataframe tbody tr th {\n",
       "        vertical-align: top;\n",
       "    }\n",
       "\n",
       "    .dataframe thead th {\n",
       "        text-align: right;\n",
       "    }\n",
       "</style>\n",
       "<table border=\"1\" class=\"dataframe\">\n",
       "  <thead>\n",
       "    <tr style=\"text-align: right;\">\n",
       "      <th></th>\n",
       "      <th>hex_1</th>\n",
       "      <th>hex_2</th>\n",
       "      <th>hex_3</th>\n",
       "      <th>hex_4</th>\n",
       "      <th>timestamp</th>\n",
       "      <th>grade</th>\n",
       "      <th>minute</th>\n",
       "      <th>hour</th>\n",
       "      <th>day</th>\n",
       "      <th>month</th>\n",
       "      <th>weekday</th>\n",
       "    </tr>\n",
       "  </thead>\n",
       "  <tbody>\n",
       "    <tr>\n",
       "      <th>0</th>\n",
       "      <td>#480397</td>\n",
       "      <td>#f0c9be</td>\n",
       "      <td>NaN</td>\n",
       "      <td>NaN</td>\n",
       "      <td>2021-06-09 17:02:50.788794</td>\n",
       "      <td>4.0</td>\n",
       "      <td>2</td>\n",
       "      <td>17</td>\n",
       "      <td>9</td>\n",
       "      <td>6</td>\n",
       "      <td>2</td>\n",
       "    </tr>\n",
       "    <tr>\n",
       "      <th>1</th>\n",
       "      <td>#ca1a50</td>\n",
       "      <td>#9c26ac</td>\n",
       "      <td>#64c7f5</td>\n",
       "      <td>NaN</td>\n",
       "      <td>2021-06-09 17:03:16.164579</td>\n",
       "      <td>6.0</td>\n",
       "      <td>3</td>\n",
       "      <td>17</td>\n",
       "      <td>9</td>\n",
       "      <td>6</td>\n",
       "      <td>2</td>\n",
       "    </tr>\n",
       "    <tr>\n",
       "      <th>2</th>\n",
       "      <td>#faf82f</td>\n",
       "      <td>#4585da</td>\n",
       "      <td>#fe666d</td>\n",
       "      <td>NaN</td>\n",
       "      <td>2021-06-09 17:03:22.807392</td>\n",
       "      <td>5.0</td>\n",
       "      <td>3</td>\n",
       "      <td>17</td>\n",
       "      <td>9</td>\n",
       "      <td>6</td>\n",
       "      <td>2</td>\n",
       "    </tr>\n",
       "    <tr>\n",
       "      <th>3</th>\n",
       "      <td>#7089ba</td>\n",
       "      <td>#f293c0</td>\n",
       "      <td>#f890c6</td>\n",
       "      <td>NaN</td>\n",
       "      <td>2021-06-09 17:03:40.673615</td>\n",
       "      <td>3.0</td>\n",
       "      <td>3</td>\n",
       "      <td>17</td>\n",
       "      <td>9</td>\n",
       "      <td>6</td>\n",
       "      <td>2</td>\n",
       "    </tr>\n",
       "    <tr>\n",
       "      <th>4</th>\n",
       "      <td>#e7b5bd</td>\n",
       "      <td>#1b2f57</td>\n",
       "      <td>#ed7ca9</td>\n",
       "      <td>#124c01</td>\n",
       "      <td>2021-06-09 17:03:46.663151</td>\n",
       "      <td>3.0</td>\n",
       "      <td>3</td>\n",
       "      <td>17</td>\n",
       "      <td>9</td>\n",
       "      <td>6</td>\n",
       "      <td>2</td>\n",
       "    </tr>\n",
       "  </tbody>\n",
       "</table>\n",
       "</div>"
      ],
      "text/plain": [
       "     hex_1    hex_2    hex_3    hex_4                   timestamp  grade  \\\n",
       "0  #480397  #f0c9be      NaN      NaN  2021-06-09 17:02:50.788794    4.0   \n",
       "1  #ca1a50  #9c26ac  #64c7f5      NaN  2021-06-09 17:03:16.164579    6.0   \n",
       "2  #faf82f  #4585da  #fe666d      NaN  2021-06-09 17:03:22.807392    5.0   \n",
       "3  #7089ba  #f293c0  #f890c6      NaN  2021-06-09 17:03:40.673615    3.0   \n",
       "4  #e7b5bd  #1b2f57  #ed7ca9  #124c01  2021-06-09 17:03:46.663151    3.0   \n",
       "\n",
       "   minute  hour  day  month  weekday  \n",
       "0       2    17    9      6        2  \n",
       "1       3    17    9      6        2  \n",
       "2       3    17    9      6        2  \n",
       "3       3    17    9      6        2  \n",
       "4       3    17    9      6        2  "
      ]
     },
     "execution_count": 18,
     "metadata": {},
     "output_type": "execute_result"
    }
   ],
   "source": [
    "from pandas import to_datetime\n",
    "\n",
    "pal_df[\"minute\"] = to_datetime(pal_df[\"timestamp\"]).dt.minute\n",
    "pal_df[\"hour\"] = to_datetime(pal_df[\"timestamp\"]).dt.hour\n",
    "pal_df[\"day\"] = to_datetime(pal_df[\"timestamp\"]).dt.day\n",
    "pal_df[\"month\"] = to_datetime(pal_df[\"timestamp\"]).dt.month\n",
    "pal_df[\"weekday\"] = to_datetime(pal_df[\"timestamp\"]).dt.weekday\n",
    "pal_df.head()"
   ]
  },
  {
   "cell_type": "code",
   "execution_count": 19,
   "metadata": {},
   "outputs": [
    {
     "name": "stderr",
     "output_type": "stream",
     "text": [
      "c:\\Users\\gorbetw\\AppData\\Local\\Programs\\Python\\Python39\\lib\\site-packages\\pandas\\core\\frame.py:4906: SettingWithCopyWarning: \n",
      "A value is trying to be set on a copy of a slice from a DataFrame\n",
      "\n",
      "See the caveats in the documentation: https://pandas.pydata.org/pandas-docs/stable/user_guide/indexing.html#returning-a-view-versus-a-copy\n",
      "  return super().drop(\n"
     ]
    }
   ],
   "source": [
    "pal_df[\"count\"] = pal_df.count(axis=1)\n",
    "grouped = pal_df.groupby(\"count\")\n",
    "cols = pal_df.shape[1] - 4\n",
    "\n",
    "pal_df_2 = grouped.get_group(cols + 1)\n",
    "pal_df_2.drop(columns=[\"hex_3\", \"hex_4\"], inplace=True)\n",
    "\n",
    "pal_df_3 = grouped.get_group(cols + 2)\n",
    "pal_df_3.drop(columns=[\"hex_4\"], inplace=True)\n",
    "\n",
    "pal_df_4 = grouped.get_group(cols + 3)"
   ]
  },
  {
   "cell_type": "code",
   "execution_count": 24,
   "metadata": {},
   "outputs": [
    {
     "name": "stderr",
     "output_type": "stream",
     "text": [
      "C:\\Users\\gorbetw\\AppData\\Local\\Temp/ipykernel_31284/1219192557.py:9: SettingWithCopyWarning: \n",
      "A value is trying to be set on a copy of a slice from a DataFrame.\n",
      "Try using .loc[row_indexer,col_indexer] = value instead\n",
      "\n",
      "See the caveats in the documentation: https://pandas.pydata.org/pandas-docs/stable/user_guide/indexing.html#returning-a-view-versus-a-copy\n",
      "  df[hex_col + '_rgb'] = df[hex_col].apply(hex_to_rgb)\n"
     ]
    },
    {
     "ename": "ValueError",
     "evalue": "Columns must be same length as key",
     "output_type": "error",
     "traceback": [
      "\u001b[1;31m---------------------------------------------------------------------------\u001b[0m",
      "\u001b[1;31mValueError\u001b[0m                                Traceback (most recent call last)",
      "\u001b[1;32m~\\AppData\\Local\\Temp/ipykernel_31284/1219192557.py\u001b[0m in \u001b[0;36m<module>\u001b[1;34m\u001b[0m\n\u001b[0;32m      8\u001b[0m         \u001b[1;32mif\u001b[0m \u001b[1;34m'hex'\u001b[0m \u001b[1;32min\u001b[0m \u001b[0mhex_col\u001b[0m\u001b[1;33m:\u001b[0m\u001b[1;33m\u001b[0m\u001b[1;33m\u001b[0m\u001b[0m\n\u001b[0;32m      9\u001b[0m             \u001b[0mdf\u001b[0m\u001b[1;33m[\u001b[0m\u001b[0mhex_col\u001b[0m \u001b[1;33m+\u001b[0m \u001b[1;34m'_rgb'\u001b[0m\u001b[1;33m]\u001b[0m \u001b[1;33m=\u001b[0m \u001b[0mdf\u001b[0m\u001b[1;33m[\u001b[0m\u001b[0mhex_col\u001b[0m\u001b[1;33m]\u001b[0m\u001b[1;33m.\u001b[0m\u001b[0mapply\u001b[0m\u001b[1;33m(\u001b[0m\u001b[0mhex_to_rgb\u001b[0m\u001b[1;33m)\u001b[0m\u001b[1;33m\u001b[0m\u001b[1;33m\u001b[0m\u001b[0m\n\u001b[1;32m---> 10\u001b[1;33m             \u001b[0mdf\u001b[0m\u001b[1;33m[\u001b[0m\u001b[0mhex_col\u001b[0m \u001b[1;33m+\u001b[0m \u001b[1;34m'_r'\u001b[0m\u001b[1;33m,\u001b[0m \u001b[0mhex_col\u001b[0m \u001b[1;33m+\u001b[0m \u001b[1;34m'_g'\u001b[0m\u001b[1;33m,\u001b[0m \u001b[0mhex_col\u001b[0m \u001b[1;33m+\u001b[0m \u001b[1;34m'_b'\u001b[0m\u001b[1;33m]\u001b[0m \u001b[1;33m=\u001b[0m \u001b[0mdf\u001b[0m\u001b[1;33m[\u001b[0m\u001b[0mhex_col\u001b[0m \u001b[1;33m+\u001b[0m \u001b[1;34m'_rgb'\u001b[0m\u001b[1;33m]\u001b[0m\u001b[1;33m.\u001b[0m\u001b[0mstr\u001b[0m\u001b[1;33m.\u001b[0m\u001b[0msplit\u001b[0m\u001b[1;33m(\u001b[0m\u001b[1;34m','\u001b[0m\u001b[1;33m,\u001b[0m \u001b[0mexpand\u001b[0m\u001b[1;33m=\u001b[0m\u001b[1;32mTrue\u001b[0m\u001b[1;33m)\u001b[0m\u001b[1;33m\u001b[0m\u001b[1;33m\u001b[0m\u001b[0m\n\u001b[0m\u001b[0;32m     11\u001b[0m             \u001b[1;31m# df[hex_col + '_hls'] = df[hex_col + '_rgb'].apply(rgb_to_hls)\u001b[0m\u001b[1;33m\u001b[0m\u001b[1;33m\u001b[0m\u001b[1;33m\u001b[0m\u001b[0m\n\u001b[0;32m     12\u001b[0m             \u001b[1;31m# hls_col=hex_col + '_hls'\u001b[0m\u001b[1;33m\u001b[0m\u001b[1;33m\u001b[0m\u001b[1;33m\u001b[0m\u001b[0m\n",
      "\u001b[1;32mc:\\Users\\gorbetw\\AppData\\Local\\Programs\\Python\\Python39\\lib\\site-packages\\pandas\\core\\frame.py\u001b[0m in \u001b[0;36m__setitem__\u001b[1;34m(self, key, value)\u001b[0m\n\u001b[0;32m   3600\u001b[0m             \u001b[0mself\u001b[0m\u001b[1;33m.\u001b[0m\u001b[0m_setitem_array\u001b[0m\u001b[1;33m(\u001b[0m\u001b[0mkey\u001b[0m\u001b[1;33m,\u001b[0m \u001b[0mvalue\u001b[0m\u001b[1;33m)\u001b[0m\u001b[1;33m\u001b[0m\u001b[1;33m\u001b[0m\u001b[0m\n\u001b[0;32m   3601\u001b[0m         \u001b[1;32melif\u001b[0m \u001b[0misinstance\u001b[0m\u001b[1;33m(\u001b[0m\u001b[0mvalue\u001b[0m\u001b[1;33m,\u001b[0m \u001b[0mDataFrame\u001b[0m\u001b[1;33m)\u001b[0m\u001b[1;33m:\u001b[0m\u001b[1;33m\u001b[0m\u001b[1;33m\u001b[0m\u001b[0m\n\u001b[1;32m-> 3602\u001b[1;33m             \u001b[0mself\u001b[0m\u001b[1;33m.\u001b[0m\u001b[0m_set_item_frame_value\u001b[0m\u001b[1;33m(\u001b[0m\u001b[0mkey\u001b[0m\u001b[1;33m,\u001b[0m \u001b[0mvalue\u001b[0m\u001b[1;33m)\u001b[0m\u001b[1;33m\u001b[0m\u001b[1;33m\u001b[0m\u001b[0m\n\u001b[0m\u001b[0;32m   3603\u001b[0m         elif (\n\u001b[0;32m   3604\u001b[0m             \u001b[0mis_list_like\u001b[0m\u001b[1;33m(\u001b[0m\u001b[0mvalue\u001b[0m\u001b[1;33m)\u001b[0m\u001b[1;33m\u001b[0m\u001b[1;33m\u001b[0m\u001b[0m\n",
      "\u001b[1;32mc:\\Users\\gorbetw\\AppData\\Local\\Programs\\Python\\Python39\\lib\\site-packages\\pandas\\core\\frame.py\u001b[0m in \u001b[0;36m_set_item_frame_value\u001b[1;34m(self, key, value)\u001b[0m\n\u001b[0;32m   3727\u001b[0m             \u001b[0mlen_cols\u001b[0m \u001b[1;33m=\u001b[0m \u001b[1;36m1\u001b[0m \u001b[1;32mif\u001b[0m \u001b[0mis_scalar\u001b[0m\u001b[1;33m(\u001b[0m\u001b[0mcols\u001b[0m\u001b[1;33m)\u001b[0m \u001b[1;32melse\u001b[0m \u001b[0mlen\u001b[0m\u001b[1;33m(\u001b[0m\u001b[0mcols\u001b[0m\u001b[1;33m)\u001b[0m\u001b[1;33m\u001b[0m\u001b[1;33m\u001b[0m\u001b[0m\n\u001b[0;32m   3728\u001b[0m             \u001b[1;32mif\u001b[0m \u001b[0mlen_cols\u001b[0m \u001b[1;33m!=\u001b[0m \u001b[0mlen\u001b[0m\u001b[1;33m(\u001b[0m\u001b[0mvalue\u001b[0m\u001b[1;33m.\u001b[0m\u001b[0mcolumns\u001b[0m\u001b[1;33m)\u001b[0m\u001b[1;33m:\u001b[0m\u001b[1;33m\u001b[0m\u001b[1;33m\u001b[0m\u001b[0m\n\u001b[1;32m-> 3729\u001b[1;33m                 \u001b[1;32mraise\u001b[0m \u001b[0mValueError\u001b[0m\u001b[1;33m(\u001b[0m\u001b[1;34m\"Columns must be same length as key\"\u001b[0m\u001b[1;33m)\u001b[0m\u001b[1;33m\u001b[0m\u001b[1;33m\u001b[0m\u001b[0m\n\u001b[0m\u001b[0;32m   3730\u001b[0m \u001b[1;33m\u001b[0m\u001b[0m\n\u001b[0;32m   3731\u001b[0m             \u001b[1;31m# align right-hand-side columns if self.columns\u001b[0m\u001b[1;33m\u001b[0m\u001b[1;33m\u001b[0m\u001b[1;33m\u001b[0m\u001b[0m\n",
      "\u001b[1;31mValueError\u001b[0m: Columns must be same length as key"
     ]
    }
   ],
   "source": [
    "from webcolors import hex_to_rgb\n",
    "from colorsys import rgb_to_hls\n",
    "\n",
    "dataframes = [pal_df_2, pal_df_3, pal_df_4]\n",
    "\n",
    "for df in dataframes:\n",
    "    for hex_col in df.columns:\n",
    "        if 'hex' in hex_col:\n",
    "            df[hex_col + '_rgb'] = df[hex_col].apply(hex_to_rgb)\n",
    "            df[hex_col + '_r', hex_col + '_g', hex_col + '_b'] = df[hex_col + '_rgb'].str.split(',', expand=True)\n",
    "            # df[hex_col + '_hls'] = df[hex_col + '_rgb'].apply(rgb_to_hls)\n",
    "            # hls_col=hex_col + '_hls'\n",
    "            # df[hex_col + '_hue'] = df[hls_col].apply(lambda x: x[0])\n",
    "            # df[hex_col + '_lightness'] = df[hls_col].apply(lambda x: x[1])\n",
    "            # df[hex_col + '_saturation'] = df[hls_col].apply(lambda x: x[2])"
   ]
  },
  {
   "cell_type": "code",
   "execution_count": 25,
   "metadata": {},
   "outputs": [
    {
     "name": "stdout",
     "output_type": "stream",
     "text": [
      "<class 'pandas.core.frame.DataFrame'>\n",
      "Int64Index: 478 entries, 0 to 1360\n",
      "Data columns (total 14 columns):\n",
      " #   Column                       Non-Null Count  Dtype  \n",
      "---  ------                       --------------  -----  \n",
      " 0   hex_1                        478 non-null    object \n",
      " 1   hex_2                        478 non-null    object \n",
      " 2   timestamp                    478 non-null    object \n",
      " 3   grade                        478 non-null    float64\n",
      " 4   minute                       478 non-null    int64  \n",
      " 5   hour                         478 non-null    int64  \n",
      " 6   day                          478 non-null    int64  \n",
      " 7   month                        478 non-null    int64  \n",
      " 8   weekday                      478 non-null    int64  \n",
      " 9   count                        478 non-null    int64  \n",
      " 10  hex_1_rgb                    478 non-null    object \n",
      " 11  (hex_1_r, hex_1_g, hex_1_b)  0 non-null      float64\n",
      " 12  hex_2_rgb                    478 non-null    object \n",
      " 13  (hex_2_r, hex_2_g, hex_2_b)  0 non-null      float64\n",
      "dtypes: float64(3), int64(6), object(5)\n",
      "memory usage: 56.0+ KB\n"
     ]
    }
   ],
   "source": [
    "pal_df_2.info()"
   ]
  }
 ],
 "metadata": {
  "kernelspec": {
   "display_name": "Python 3",
   "language": "python",
   "name": "python3"
  },
  "language_info": {
   "codemirror_mode": {
    "name": "ipython",
    "version": 3
   },
   "file_extension": ".py",
   "mimetype": "text/x-python",
   "name": "python",
   "nbconvert_exporter": "python",
   "pygments_lexer": "ipython3",
   "version": "3.9.5"
  },
  "orig_nbformat": 4,
  "vscode": {
   "interpreter": {
    "hash": "854b79d274a583f75c40c7f3bd02412a36473cef18799a360864980abe18c0f4"
   }
  }
 },
 "nbformat": 4,
 "nbformat_minor": 2
}
