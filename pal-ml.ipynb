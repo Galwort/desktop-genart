{
 "cells": [
  {
   "cell_type": "code",
   "execution_count": 24,
   "metadata": {},
   "outputs": [
    {
     "name": "stdout",
     "output_type": "stream",
     "text": [
      "<class 'pandas.core.frame.DataFrame'>\n",
      "Int64Index: 1361 entries, 0 to 1360\n",
      "Data columns (total 6 columns):\n",
      " #   Column     Non-Null Count  Dtype  \n",
      "---  ------     --------------  -----  \n",
      " 0   hex_1      1361 non-null   object \n",
      " 1   hex_2      1361 non-null   object \n",
      " 2   hex_3      883 non-null    object \n",
      " 3   hex_4      445 non-null    object \n",
      " 4   timestamp  1361 non-null   object \n",
      " 5   grade      1361 non-null   float64\n",
      "dtypes: float64(1), object(5)\n",
      "memory usage: 74.4+ KB\n"
     ]
    }
   ],
   "source": [
    "from pandas import read_csv\n",
    "\n",
    "pal_df = read_csv(\"pal_log.csv\")\n",
    "pal_df.drop(columns=[\"id\", \"hex_5\"], inplace=True)\n",
    "pal_df.drop(pal_df.tail(1).index, inplace=True)\n",
    "pal_df.info()"
   ]
  },
  {
   "cell_type": "code",
   "execution_count": 13,
   "metadata": {},
   "outputs": [
    {
     "data": {
      "text/html": [
       "<div>\n",
       "<style scoped>\n",
       "    .dataframe tbody tr th:only-of-type {\n",
       "        vertical-align: middle;\n",
       "    }\n",
       "\n",
       "    .dataframe tbody tr th {\n",
       "        vertical-align: top;\n",
       "    }\n",
       "\n",
       "    .dataframe thead th {\n",
       "        text-align: right;\n",
       "    }\n",
       "</style>\n",
       "<table border=\"1\" class=\"dataframe\">\n",
       "  <thead>\n",
       "    <tr style=\"text-align: right;\">\n",
       "      <th></th>\n",
       "      <th>hex_1</th>\n",
       "      <th>hex_2</th>\n",
       "      <th>hex_3</th>\n",
       "      <th>hex_4</th>\n",
       "      <th>timestamp</th>\n",
       "      <th>grade</th>\n",
       "      <th>minute</th>\n",
       "      <th>hour</th>\n",
       "      <th>day</th>\n",
       "      <th>month</th>\n",
       "      <th>weekday</th>\n",
       "    </tr>\n",
       "  </thead>\n",
       "  <tbody>\n",
       "    <tr>\n",
       "      <th>0</th>\n",
       "      <td>#480397</td>\n",
       "      <td>#f0c9be</td>\n",
       "      <td>NaN</td>\n",
       "      <td>NaN</td>\n",
       "      <td>2021-06-09 17:02:50.788794</td>\n",
       "      <td>4.0</td>\n",
       "      <td>2</td>\n",
       "      <td>17</td>\n",
       "      <td>9</td>\n",
       "      <td>6</td>\n",
       "      <td>2</td>\n",
       "    </tr>\n",
       "    <tr>\n",
       "      <th>1</th>\n",
       "      <td>#ca1a50</td>\n",
       "      <td>#9c26ac</td>\n",
       "      <td>#64c7f5</td>\n",
       "      <td>NaN</td>\n",
       "      <td>2021-06-09 17:03:16.164579</td>\n",
       "      <td>6.0</td>\n",
       "      <td>3</td>\n",
       "      <td>17</td>\n",
       "      <td>9</td>\n",
       "      <td>6</td>\n",
       "      <td>2</td>\n",
       "    </tr>\n",
       "    <tr>\n",
       "      <th>2</th>\n",
       "      <td>#faf82f</td>\n",
       "      <td>#4585da</td>\n",
       "      <td>#fe666d</td>\n",
       "      <td>NaN</td>\n",
       "      <td>2021-06-09 17:03:22.807392</td>\n",
       "      <td>5.0</td>\n",
       "      <td>3</td>\n",
       "      <td>17</td>\n",
       "      <td>9</td>\n",
       "      <td>6</td>\n",
       "      <td>2</td>\n",
       "    </tr>\n",
       "    <tr>\n",
       "      <th>3</th>\n",
       "      <td>#7089ba</td>\n",
       "      <td>#f293c0</td>\n",
       "      <td>#f890c6</td>\n",
       "      <td>NaN</td>\n",
       "      <td>2021-06-09 17:03:40.673615</td>\n",
       "      <td>3.0</td>\n",
       "      <td>3</td>\n",
       "      <td>17</td>\n",
       "      <td>9</td>\n",
       "      <td>6</td>\n",
       "      <td>2</td>\n",
       "    </tr>\n",
       "    <tr>\n",
       "      <th>4</th>\n",
       "      <td>#e7b5bd</td>\n",
       "      <td>#1b2f57</td>\n",
       "      <td>#ed7ca9</td>\n",
       "      <td>#124c01</td>\n",
       "      <td>2021-06-09 17:03:46.663151</td>\n",
       "      <td>3.0</td>\n",
       "      <td>3</td>\n",
       "      <td>17</td>\n",
       "      <td>9</td>\n",
       "      <td>6</td>\n",
       "      <td>2</td>\n",
       "    </tr>\n",
       "  </tbody>\n",
       "</table>\n",
       "</div>"
      ],
      "text/plain": [
       "     hex_1    hex_2    hex_3    hex_4  ... hour  day  month  weekday\n",
       "0  #480397  #f0c9be      NaN      NaN  ...   17    9      6        2\n",
       "1  #ca1a50  #9c26ac  #64c7f5      NaN  ...   17    9      6        2\n",
       "2  #faf82f  #4585da  #fe666d      NaN  ...   17    9      6        2\n",
       "3  #7089ba  #f293c0  #f890c6      NaN  ...   17    9      6        2\n",
       "4  #e7b5bd  #1b2f57  #ed7ca9  #124c01  ...   17    9      6        2\n",
       "\n",
       "[5 rows x 11 columns]"
      ]
     },
     "execution_count": 13,
     "metadata": {},
     "output_type": "execute_result"
    }
   ],
   "source": [
    "from pandas import to_datetime\n",
    "\n",
    "pal_df[\"minute\"] = to_datetime(pal_df[\"timestamp\"]).dt.minute\n",
    "pal_df[\"hour\"] = to_datetime(pal_df[\"timestamp\"]).dt.hour\n",
    "pal_df[\"day\"] = to_datetime(pal_df[\"timestamp\"]).dt.day\n",
    "pal_df[\"month\"] = to_datetime(pal_df[\"timestamp\"]).dt.month\n",
    "pal_df[\"weekday\"] = to_datetime(pal_df[\"timestamp\"]).dt.weekday\n",
    "pal_df.head()"
   ]
  },
  {
   "cell_type": "code",
   "execution_count": 14,
   "metadata": {},
   "outputs": [
    {
     "name": "stderr",
     "output_type": "stream",
     "text": [
      "c:\\Users\\gorbetw\\AppData\\Local\\Programs\\Python\\Python39\\lib\\site-packages\\pandas\\core\\frame.py:4906: SettingWithCopyWarning: \n",
      "A value is trying to be set on a copy of a slice from a DataFrame\n",
      "\n",
      "See the caveats in the documentation: https://pandas.pydata.org/pandas-docs/stable/user_guide/indexing.html#returning-a-view-versus-a-copy\n",
      "  return super().drop(\n"
     ]
    }
   ],
   "source": [
    "pal_df[\"count\"] = pal_df.count(axis=1)\n",
    "grouped = pal_df.groupby(\"count\")\n",
    "cols = pal_df.shape[1] - 4\n",
    "\n",
    "pal_df_2 = grouped.get_group(cols + 1)\n",
    "pal_df_2.drop(columns=[\"hex_3\", \"hex_4\"], inplace=True)\n",
    "\n",
    "pal_df_3 = grouped.get_group(cols + 2)\n",
    "pal_df_3.drop(columns=[\"hex_4\"], inplace=True)\n",
    "\n",
    "pal_df_4 = grouped.get_group(cols + 3)"
   ]
  },
  {
   "cell_type": "code",
   "execution_count": 23,
   "metadata": {},
   "outputs": [
    {
     "name": "stdout",
     "output_type": "stream",
     "text": [
      "hex_1\n",
      "hex_2\n",
      "hex_1_rgb\n",
      "hex_2_rgb\n",
      "hex_1\n",
      "hex_2\n",
      "hex_3\n",
      "hex_1\n",
      "hex_2\n",
      "hex_3\n",
      "hex_4\n"
     ]
    }
   ],
   "source": [
    "from webcolors import hex_to_rgb\n",
    "from colorsys import rgb_to_hls\n",
    "\n",
    "dataframes = [pal_df_2, pal_df_3, pal_df_4]\n",
    "\n",
    "for df in dataframes:\n",
    "    for hex_col in df.columns:\n",
    "        if 'hex' in hex_col:\n",
    "            print(hex_col)\n",
    "            # df[hex_col + '_rgb'] = df[hex_col].apply(hex_to_rgb)\n",
    "\n",
    "            # Convert RGB to HLS\n",
    "            # df[hex_col + '_hls'] = df[hex_col + '_rgb'].apply(rgb_to_hls)\n",
    "            # hls_col=hex_col + '_hls'\n",
    "            # df[hex_col + '_hue'] = df[hls_col].apply(lambda x: x[0])\n",
    "            # df[hex_col + '_lightness'] = df[hls_col].apply(lambda x: x[1])\n",
    "            # df[hex_col + '_saturation'] = df[hls_col].apply(lambda x: x[2])"
   ]
  }
 ],
 "metadata": {
  "kernelspec": {
   "display_name": "Python 3",
   "language": "python",
   "name": "python3"
  },
  "language_info": {
   "codemirror_mode": {
    "name": "ipython",
    "version": 3
   },
   "file_extension": ".py",
   "mimetype": "text/x-python",
   "name": "python",
   "nbconvert_exporter": "python",
   "pygments_lexer": "ipython3",
   "version": "3.9.5"
  },
  "orig_nbformat": 4,
  "vscode": {
   "interpreter": {
    "hash": "854b79d274a583f75c40c7f3bd02412a36473cef18799a360864980abe18c0f4"
   }
  }
 },
 "nbformat": 4,
 "nbformat_minor": 2
}
